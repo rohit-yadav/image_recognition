{
    "nbformat_minor": 1, 
    "cells": [
        {
            "source": "# Install watson developer cloud module\n# !pip install --upgrade \"watson-developer-cloud>=2.4.1\"\n# !pip install --upgrade \"tensorflow>=1.3.0\"", 
            "cell_type": "code", 
            "metadata": {}, 
            "outputs": [], 
            "execution_count": 13
        }
    ], 
    "metadata": {
        "kernelspec": {
            "display_name": "Python 3.5", 
            "name": "python3", 
            "language": "python"
        }, 
        "language_info": {
            "mimetype": "text/x-python", 
            "nbconvert_exporter": "python", 
            "version": "3.5.5", 
            "name": "python", 
            "file_extension": ".py", 
            "pygments_lexer": "ipython3", 
            "codemirror_mode": {
                "version": 3, 
                "name": "ipython"
            }
        }
    }, 
    "nbformat": 4
}